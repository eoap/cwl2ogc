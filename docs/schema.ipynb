{
 "cells": [
  {
   "cell_type": "markdown",
   "id": "8358e29c",
   "metadata": {},
   "source": [
    "# JSON Schema generation\n",
    "\n",
    "A simple usage of the library that, given generates a JSON Schema for inputs and outputs."
   ]
  },
  {
   "cell_type": "markdown",
   "id": "49492847",
   "metadata": {},
   "source": [
    "## 1. Parsing\n",
    "\n",
    "In this sample we'll show the access from a remote public URL."
   ]
  },
  {
   "cell_type": "code",
   "execution_count": 45,
   "id": "f5976049",
   "metadata": {},
   "outputs": [],
   "source": [
    "from cwl2ogc import load_converter_from_location\n",
    "\n",
    "cwl_converter = load_converter_from_location('https://raw.githubusercontent.com/eoap/cwl2ogc/refs/heads/develop/tests/artifacts/cwl-types/array-inputs.cwl')"
   ]
  },
  {
   "cell_type": "markdown",
   "id": "a127e3f7",
   "metadata": {},
   "source": [
    "# 2. Inputs JSON Schema generation\n",
    "\n",
    "Once the document is parsed, invoke the `cwl2ogc` APIs to convert the CWL inputs to the JSON schema:"
   ]
  },
  {
   "cell_type": "code",
   "execution_count": 46,
   "id": "fba17ea4",
   "metadata": {},
   "outputs": [
    {
     "name": "stdout",
     "output_type": "stream",
     "text": [
      "{\n",
      "  \"$schema\": \"https://json-schema.org/draft/2020-12/schema\",\n",
      "  \"$id\": \"https://eoap.github.io/cwl2ogc/array-inputs/inputs.yaml\",\n",
      "  \"description\": \"The schema to represent a array-inputs inputs definition\",\n",
      "  \"type\": \"object\",\n",
      "  \"required\": [\n",
      "    \"filesA\",\n",
      "    \"filesB\",\n",
      "    \"filesC\"\n",
      "  ],\n",
      "  \"properties\": {\n",
      "    \"filesA\": {\n",
      "      \"$ref\": \"#/$defs/filesA\"\n",
      "    },\n",
      "    \"filesB\": {\n",
      "      \"$ref\": \"#/$defs/filesB\"\n",
      "    },\n",
      "    \"filesC\": {\n",
      "      \"$ref\": \"#/$defs/filesC\"\n",
      "    }\n",
      "  },\n",
      "  \"$defs\": {\n",
      "    \"filesA\": {\n",
      "      \"type\": \"array\",\n",
      "      \"items\": {\n",
      "        \"type\": \"string\"\n",
      "      }\n",
      "    },\n",
      "    \"filesB\": {\n",
      "      \"type\": \"array\",\n",
      "      \"items\": {\n",
      "        \"type\": \"string\"\n",
      "      }\n",
      "    },\n",
      "    \"filesC\": {\n",
      "      \"type\": \"array\",\n",
      "      \"items\": {\n",
      "        \"type\": \"string\"\n",
      "      }\n",
      "    }\n",
      "  }\n",
      "}"
     ]
    }
   ],
   "source": [
    "import sys\n",
    "\n",
    "cwl_converter.dump_inputs_json_schema(stream=sys.stdout, pretty_print=True)"
   ]
  },
  {
   "cell_type": "markdown",
   "id": "dd36ab4d",
   "metadata": {},
   "source": [
    "## 2.1 Inputs validation\n",
    "\n",
    "Schema can be used to fully validate an inputs dictionary (expecting JSON Schema validation errors in the example below):"
   ]
  },
  {
   "cell_type": "code",
   "execution_count": 47,
   "id": "f6aaf3ed",
   "metadata": {},
   "outputs": [
    {
     "name": "stdout",
     "output_type": "stream",
     "text": [
      "* required:  - 'filesA' is a required property\n",
      "* required:  - 'filesC' is a required property\n",
      "* properties.filesB.type: filesB - 'EPSG:4326' is not of type 'array'\n"
     ]
    }
   ],
   "source": [
    "from jsonschema import Draft202012Validator\n",
    "from jsonschema.exceptions import (\n",
    "    SchemaError,\n",
    "    ValidationError\n",
    ")\n",
    "\n",
    "inputs = {\n",
    "    \"aoi\": \"-118.985,38.432,-118.183,38.938\",\n",
    "    \"filesB\": \"EPSG:4326\",\n",
    "    \"bands\": [ \"green\", \"nir08\" ],\n",
    "    \"item\": {\n",
    "        \"class\":\"https://raw.githubusercontent.com/eoap/schemas/main/url.yaml#URL\",\n",
    "        \"value\":\"https://planetarycomputer.microsoft.com/api/stac/v1/collections/landsat-c2-l2/items/LC08_L2SP_042033_20231007_02_T1\"\n",
    "    }\n",
    "}\n",
    "\n",
    "try:\n",
    "    validator = Draft202012Validator(cwl_converter.get_inputs_json_schema())\n",
    "\n",
    "    errors = validator.iter_errors(inputs)\n",
    "    if errors:\n",
    "        for error in validator.iter_errors(inputs):\n",
    "            print(f\"* {'.'.join(error.schema_path)}: {'.'.join(error.path)} - {error.message}\")\n",
    "except SchemaError as schema_error:\n",
    "    print(schema_error.message)"
   ]
  },
  {
   "cell_type": "markdown",
   "id": "6dc27b83",
   "metadata": {},
   "source": [
    "# 3. Outputs JSON Schema generation\n",
    "\n",
    "Users can reuse the `BaseCWLtypes2OGCConverter` instance to convert the CWL outputs to the JSON Schema:"
   ]
  },
  {
   "cell_type": "code",
   "execution_count": 48,
   "id": "6b0d3d11",
   "metadata": {},
   "outputs": [
    {
     "name": "stdout",
     "output_type": "stream",
     "text": [
      "{\n",
      "  \"$schema\": \"https://json-schema.org/draft/2020-12/schema\",\n",
      "  \"$id\": \"https://eoap.github.io/cwl2ogc/array-inputs/outputs.yaml\",\n",
      "  \"description\": \"The schema to represent a array-inputs outputs definition\",\n",
      "  \"type\": \"object\",\n",
      "  \"required\": [\n",
      "    \"example_out\"\n",
      "  ],\n",
      "  \"properties\": {\n",
      "    \"example_out\": {\n",
      "      \"$ref\": \"#/$defs/example_out\"\n",
      "    }\n",
      "  },\n",
      "  \"$defs\": {\n",
      "    \"example_out\": {\n",
      "      \"type\": \"string\"\n",
      "    }\n",
      "  }\n",
      "}"
     ]
    }
   ],
   "source": [
    "cwl_converter.dump_outputs_json_schema(stream=sys.stdout, pretty_print=True)"
   ]
  }
 ],
 "metadata": {
  "kernelspec": {
   "display_name": "Python 3",
   "language": "python",
   "name": "python3"
  },
  "language_info": {
   "codemirror_mode": {
    "name": "ipython",
    "version": 3
   },
   "file_extension": ".py",
   "mimetype": "text/x-python",
   "name": "python",
   "nbconvert_exporter": "python",
   "pygments_lexer": "ipython3",
   "version": "3.10.12"
  }
 },
 "nbformat": 4,
 "nbformat_minor": 5
}
